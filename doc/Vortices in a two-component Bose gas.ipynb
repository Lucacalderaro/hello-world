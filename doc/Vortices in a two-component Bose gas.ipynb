{
 "cells": [
  {
   "cell_type": "markdown",
   "metadata": {},
   "source": [
    "### Set-up"
   ]
  },
  {
   "cell_type": "code",
   "execution_count": null,
   "metadata": {
    "collapsed": false
   },
   "outputs": [],
   "source": [
    "%matplotlib inline\n",
    "import numpy as np\n",
    "import trottersuzuki as ts\n",
    "from matplotlib import pyplot as plt\n",
    "from __future__ import division # to carry out normal division with just one '/'.\n",
    "\n",
    "from os.path import expanduser; home = expanduser(\"~\")  # returns the home directory\n",
    "directory = home + '/Test/vortices/'\n",
    "\n",
    "dim = 150      # square lattice\n",
    "length = 40.\n",
    "delta_x = delta_y = length / dim\n",
    "periods = [0, 0]      # open boundary conditions\n",
    "kernel_type = \"cpu\"      #the evolution is performed by the CPU kernel\n",
    "\n",
    "# use harmonic oscillator units\n",
    "particle_mass_A = particle_mass_B = 1.\n",
    "w_x = w_y = 1.   # frequencies of the harmonic confinement\n",
    "rot_coord_x = rot_coord_y = dim / 2   # the axis of rotation will be located at the lattice center\n",
    "\n",
    "TF_radius = length/4.   # wished TF radius, in harmonic oscillator units\n",
    "coupling_const = np.pi * (TF_radius**4) / 4.   # this will be multiplying a wavefunction normalized to unity\n",
    "\n",
    "# vectors containing the physical coordinates (in h.o. units, and centered in the lattice)\n",
    "x_vec = y_vec = (np.arange(dim) - dim*0.5) * delta_x\n",
    "\n",
    "# define the external potential\n",
    "external_pot_A = np.zeros((dim, dim))\n",
    "for i in range(0, dim):\n",
    "    y = y_vec[i]\n",
    "    for j in range(0, dim):\n",
    "        x = x_vec[j]\n",
    "        external_pot_A[i,j] = 0.5 * particle_mass_A * (w_x**2 * x**2 + w_y**2 * y**2)\n",
    "external_pot_B = external_pot_A\n",
    "\n",
    "# exports or displays a figure with the present density and phase\n",
    "def heatmaps_of_density_and_phase(time, export, show, onlyDensity=False):\n",
    "    density_A = ts.get_wave_function_density(p_real_A, p_imag_A)\n",
    "    density_B = ts.get_wave_function_density(p_real_B, p_imag_B)\n",
    "    if onlyDensity==True:\n",
    "        fig = plt.figure(figsize=(9,4));\n",
    "        ax1 = fig.add_subplot(121); \n",
    "        plt.xticks([0, dim/4, dim/2, 3*dim/4, dim],[str(-length/2), str(-length/4), '0', str(length/4), str(length/2)])\n",
    "        plt.yticks([0, dim/4, dim/2, 3*dim/4, dim],[str(-length/2), str(-length/4), '0', str(length/4), str(length/2)])\n",
    "        plt.pcolor(density_A)\n",
    "        ax2 = fig.add_subplot(122); \n",
    "        plt.xticks([0, dim/4, dim/2, 3*dim/4, dim],[str(-length/2), str(-length/4), '0', str(length/4), str(length/2)])\n",
    "        plt.yticks([0, dim/4, dim/2, 3*dim/4, dim],[str(-length/2), str(-length/4), '0', str(length/4), str(length/2)])\n",
    "        plt.pcolor(density_B)\n",
    "    else:\n",
    "        phase_A = ts.get_wave_function_phase(p_real_A, p_imag_A)\n",
    "        phase_B = ts.get_wave_function_phase(p_real_B, p_imag_B)\n",
    "        fig = plt.figure(figsize=(19,4));\n",
    "        ax1 = fig.add_subplot(141); \n",
    "        plt.xticks([0, dim/4, dim/2, 3*dim/4, dim],[str(-length/2), str(-length/4), '0', str(length/4), str(length/2)])\n",
    "        plt.yticks([0, dim/4, dim/2, 3*dim/4, dim],[str(-length/2), str(-length/4), '0', str(length/4), str(length/2)])\n",
    "        plt.pcolor(density_A)\n",
    "        plt.set_cmap('afmhot')\n",
    "        ax2 = fig.add_subplot(142); \n",
    "        plt.xticks([0, dim/4, dim/2, 3*dim/4, dim],[str(-length/2), str(-length/4), '0', str(length/4), str(length/2)])\n",
    "        plt.yticks([0, dim/4, dim/2, 3*dim/4, dim],[str(-length/2), str(-length/4), '0', str(length/4), str(length/2)])\n",
    "        plt.pcolor(density_B)\n",
    "        ax3 = fig.add_subplot(143);\n",
    "        plt.xticks([0, dim/4, dim/2, 3*dim/4, dim],[str(-length/2), str(-length/4), '0', str(length/4), str(length/2)])\n",
    "        plt.yticks([0, dim/4, dim/2, 3*dim/4, dim],[str(-length/2), str(-length/4), '0', str(length/4), str(length/2)])\n",
    "        plt.pcolor(phase_A)\n",
    "        plt.set_cmap('hsv')\n",
    "        ax3 = fig.add_subplot(144);\n",
    "        plt.xticks([0, dim/4, dim/2, 3*dim/4, dim],[str(-length/2), str(-length/4), '0', str(length/4), str(length/2)])\n",
    "        plt.yticks([0, dim/4, dim/2, 3*dim/4, dim],[str(-length/2), str(-length/4), '0', str(length/4), str(length/2)])\n",
    "        plt.pcolor(phase_B)\n",
    "        \n",
    "    if export==True:\n",
    "        fig.savefig(directory + ('imagTime' if imag_time==True else 'realTime') + '_plots-' + str(time) +'.png')\n",
    "    if show==False:\n",
    "        plt.close(fig)\n",
    "    return\n",
    "\n",
    "# exports to file the energies at a given time\n",
    "def export_info(time):\n",
    "    tot_energy = ts.calculate_total_energy_2GPE(p_real_A, p_imag_A, p_real_B, p_imag_B, particle_mass_A, particle_mass_B,\n",
    "                                                [g_A, g_B, g_AB, Omega_Rabi, Omega_Rabi_imag], external_pot_A, external_pot_B,\n",
    "                                                omega, rot_coord_x, rot_coord_y, delta_x, delta_y)\n",
    "    file_info = open(directory + ('imagTime' if imag_time==True else 'realTime') + '_info.txt',\"a\")\n",
    "    file_info.write(str(time) + #\"\\t\" + str(rot_energy) +\\\n",
    "                                #\"\\t\" + str(kin_energy) + \n",
    "                                \"\\t\" + str(tot_energy) + \"\\n\")\n",
    "    file_info.close()\n",
    "    \n",
    "# this is the basic evolution step\n",
    "def evolution_step():\n",
    "    ts.evolve_2GPE(p_real_A, p_imag_A, p_real_B, p_imag_B, particle_mass_A, particle_mass_B, external_pot_A, external_pot_B,\n",
    "                   omega, rot_coord_x, rot_coord_y, delta_x, delta_y, delta_t, iterations,\n",
    "                   [g_A, g_B, g_AB, Omega_Rabi, Omega_Rabi_imag], kernel_type,\n",
    "                   periods, imag_time)"
   ]
  },
  {
   "cell_type": "markdown",
   "metadata": {},
   "source": [
    "# Dynamics in presence of Rabi coupling\n",
    " (starting with a vortex in BEC1, and no vortex in BEC2)"
   ]
  },
  {
   "cell_type": "markdown",
   "metadata": {},
   "source": [
    "### Initial condition"
   ]
  },
  {
   "cell_type": "code",
   "execution_count": null,
   "metadata": {
    "collapsed": false
   },
   "outputs": [],
   "source": [
    "# width of the gaussian envelope\n",
    "width = 4\n",
    "\n",
    "p_real_A = np.zeros((dim,dim))\n",
    "p_imag_A = np.zeros((dim,dim))\n",
    "p_real_B = np.zeros((dim,dim))\n",
    "p_imag_B = np.ones((dim,dim))\n",
    "\n",
    "for i in range(0, dim):\n",
    "    y = y_vec[i]\n",
    "    for j in range(0, dim):\n",
    "        x = x_vec[j]\n",
    "        z = x + 1j*y\n",
    "        val = np.exp(-(x**2 + y**2)/(2. * width**2))\n",
    "        p_real_A[i, j] = np.real(val)\n",
    "        p_imag_A[i, j] = np.imag(val)\n",
    "        val = np.exp(-(x**2 + y**2)/(2. * width**2))\n",
    "        p_real_B[i, j] = np.real(val)\n",
    "        p_imag_B[i, j] = np.imag(val)\n",
    "\n",
    "# normalize the initial condition\n",
    "norm=np.sqrt(delta_x * delta_y * np.sum(np.abs(p_real_A)**2 + np.abs(p_imag_A)**2))\n",
    "p_real_A=p_real_A/norm\n",
    "p_imag_A=p_imag_A/norm\n",
    "norm=np.sqrt(delta_x * delta_y * np.sum(np.abs(p_real_B)**2 + np.abs(p_imag_B)**2))\n",
    "p_real_B=p_real_B/norm\n",
    "p_imag_B=p_imag_B/norm\n",
    "\n",
    "# plot the initial condition\n",
    "imag_time = True\n",
    "heatmaps_of_density_and_phase(time=0, export=False, show=True)"
   ]
  },
  {
   "cell_type": "markdown",
   "metadata": {},
   "source": [
    "### Find the ground state (with no rotation, no Rabi, and with $g_{AB}\\leq\\sqrt{g_A g_B}$ so the BECs remain mixed)"
   ]
  },
  {
   "cell_type": "code",
   "execution_count": null,
   "metadata": {
    "collapsed": false
   },
   "outputs": [],
   "source": [
    "omega = 0.   # no rotation\n",
    "imag_time = True    # True: imaginary time evolution; False: real time evolution\n",
    "delta_t = 2.5e-4     #evolution time of a single iteration step\n",
    "iterations = 1000   #number of iterations\n",
    "start_it=1\n",
    "max_it = 4\n",
    "g_A = coupling_const\n",
    "g_B = coupling_const\n",
    "g_AB = g_A\n",
    "\n",
    "Rabi_period = 20\n",
    "Omega_Rabi = 0   # 2 * np.pi/Rabi_period\n",
    "Omega_Rabi_imag = 0.\n",
    "\n",
    "\n",
    "file_info = open(directory + ('imagTime' if imag_time==True else 'realTime') + '_info.txt',\"w\")\n",
    "file_info.write(\"time\\ttot_energy\\n\")#\\tkin_energy\\ttot_energy\\n\")\n",
    "file_info.close()\n",
    "export_info(0)\n",
    "\n",
    "for cont in range(start_it-1, max_it):\n",
    "    evolution_step()\n",
    "    time=(cont + 1) * iterations * delta_t\n",
    "    heatmaps_of_density_and_phase(time,export=False, show=True)\n",
    "    #export_info(time)\n",
    "    \n",
    "\n",
    "p_real_A_0 = p_real_A.copy()\n",
    "p_imag_A_0 = p_imag_A.copy()\n",
    "p_real_B_0 = p_real_B.copy()\n",
    "p_imag_B_0 = p_imag_B.copy()"
   ]
  },
  {
   "cell_type": "markdown",
   "metadata": {},
   "source": [
    "With these initial conditions (no Rabi during imaginary time evolution, no vortices imprinted), a real Rabi frequency turned on at t=0 generates no dynamics.\n",
    "\n",
    "A purely imaginary Rabi frequency (or, equivalently, a relative phase of $\\pi$/2 between BEC-1 and BEC-2) instead generates periodic oscillations of the relative densities"
   ]
  },
  {
   "cell_type": "markdown",
   "metadata": {},
   "source": [
    "# Imprint a vortex in BEC1"
   ]
  },
  {
   "cell_type": "code",
   "execution_count": null,
   "metadata": {
    "collapsed": false
   },
   "outputs": [],
   "source": [
    "p_real_A = p_real_A_0.copy()\n",
    "p_imag_A = p_imag_A_0.copy()\n",
    "p_real_B = p_real_B_0.copy()\n",
    "p_imag_B = p_imag_B_0.copy()\n",
    "\n",
    "p_real_A_before = p_real_A_0.copy()\n",
    "\n",
    "for i in range(0, dim):\n",
    "    y = y_vec[i]\n",
    "    for j in range(0, dim):\n",
    "        x = x_vec[j]\n",
    "        z = x + 1j*y\n",
    "        p_real_A[i, j] = p_real_A_before[i, j] * np.cos(np.angle(z))\n",
    "        p_imag_A[i, j] = p_real_A_before[i, j] * np.sin(np.angle(z))\n",
    "\n",
    "heatmaps_of_density_and_phase(time,export=False, show=True)"
   ]
  },
  {
   "cell_type": "markdown",
   "metadata": {},
   "source": [
    "## Real time evolution"
   ]
  },
  {
   "cell_type": "code",
   "execution_count": null,
   "metadata": {
    "collapsed": false
   },
   "outputs": [],
   "source": [
    "imag_time = False    # True: imaginary time evolution; False: real time evolution\n",
    "iterations = 400   #number of iterations\n",
    "start_it=1\n",
    "max_it = 25\n",
    "\n",
    "file_info = open(directory + ('imagTime' if imag_time==True else 'realTime') + '_info.txt',\"w\")\n",
    "file_info.write(\"time\\ttot_energy\\n\")\n",
    "file_info.close()\n",
    "export_info(0)\n",
    "\n",
    "Rabi_period = 20\n",
    "Omega_Rabi = 2 * np.pi/Rabi_period\n",
    "Omega_Rabi_imag = 0\n",
    "\n",
    "time=0\n",
    "for cont in range(start_it-1, max_it):\n",
    "    heatmaps_of_density_and_phase(time,export=True, show=True)\n",
    "    #export_info(time)\n",
    "    evolution_step()\n",
    "    print(ts.calculate_norm2(p_real_A,p_imag_A,delta_x,delta_y), ts.calculate_norm2(p_real_B,p_imag_B,delta_x,delta_y))\n",
    "    time=(cont + 1) * iterations * delta_t\n",
    "\n",
    "    \n",
    "heatmaps_of_density_and_phase(time,export=True, show=False)"
   ]
  },
  {
   "cell_type": "markdown",
   "metadata": {},
   "source": [
    "Nothing changes employing either a real or imaginary Rabi frequency. (apart maybe from a motion of the vortices, which results rotated by 90 degrees in the plane?)\n",
    "\n",
    "This may be so, because it is not possible to define a \"relative phase\" between BEC-A and BEC-B, given that at t=0 BEC-A includes a vortex. "
   ]
  },
  {
   "cell_type": "code",
   "execution_count": null,
   "metadata": {
    "collapsed": true
   },
   "outputs": [],
   "source": []
  }
 ],
 "metadata": {
  "kernelspec": {
   "display_name": "Python 2",
   "language": "python",
   "name": "python2"
  },
  "language_info": {
   "codemirror_mode": {
    "name": "ipython",
    "version": 2
   },
   "file_extension": ".py",
   "mimetype": "text/x-python",
   "name": "python",
   "nbconvert_exporter": "python",
   "pygments_lexer": "ipython2",
   "version": "2.7.10"
  }
 },
 "nbformat": 4,
 "nbformat_minor": 0
}
